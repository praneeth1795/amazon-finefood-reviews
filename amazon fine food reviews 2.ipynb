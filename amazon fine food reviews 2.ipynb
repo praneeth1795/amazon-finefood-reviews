{
 "cells": [
  {
   "cell_type": "code",
   "execution_count": 1,
   "metadata": {},
   "outputs": [
    {
     "name": "stderr",
     "output_type": "stream",
     "text": [
      "C:\\Users\\prane\\Anaconda3\\lib\\site-packages\\sklearn\\ensemble\\weight_boosting.py:29: DeprecationWarning: numpy.core.umath_tests is an internal NumPy module and should not be imported. It will be removed in a future NumPy release.\n",
      "  from numpy.core.umath_tests import inner1d\n"
     ]
    }
   ],
   "source": [
    "import warnings\n",
    "warnings.filterwarnings('ignore')\n",
    "import numpy as np\n",
    "import pandas as pd\n",
    "import matplotlib.pyplot as plt\n",
    "import seaborn as sns\n",
    "from sklearn.feature_extraction.text import TfidfVectorizer\n",
    "from tqdm import tqdm\n",
    "from sklearn.metrics import log_loss\n",
    "import os\n",
    "from sklearn.linear_model import LogisticRegression\n",
    "from sklearn.ensemble import RandomForestClassifier\n",
    "from sklearn.neighbors import KNeighborsClassifier\n",
    "from sklearn.calibration import CalibratedClassifierCV\n",
    "from sklearn.linear_model import SGDClassifier\n",
    "import xgboost as xgb"
   ]
  },
  {
   "cell_type": "code",
   "execution_count": 2,
   "metadata": {
    "scrolled": true
   },
   "outputs": [
    {
     "data": {
      "text/html": [
       "<div>\n",
       "<style scoped>\n",
       "    .dataframe tbody tr th:only-of-type {\n",
       "        vertical-align: middle;\n",
       "    }\n",
       "\n",
       "    .dataframe tbody tr th {\n",
       "        vertical-align: top;\n",
       "    }\n",
       "\n",
       "    .dataframe thead th {\n",
       "        text-align: right;\n",
       "    }\n",
       "</style>\n",
       "<table border=\"1\" class=\"dataframe\">\n",
       "  <thead>\n",
       "    <tr style=\"text-align: right;\">\n",
       "      <th></th>\n",
       "      <th>HelpfulnessNumerator</th>\n",
       "      <th>HelpfulnessDenominator</th>\n",
       "      <th>Time</th>\n",
       "      <th>is positive</th>\n",
       "      <th>reviews</th>\n",
       "      <th>HelpfulnessRatio</th>\n",
       "    </tr>\n",
       "  </thead>\n",
       "  <tbody>\n",
       "    <tr>\n",
       "      <th>0</th>\n",
       "      <td>1</td>\n",
       "      <td>1</td>\n",
       "      <td>1303862400</td>\n",
       "      <td>1</td>\n",
       "      <td>good qualiti dog food good qualiti dog food go...</td>\n",
       "      <td>0.999990</td>\n",
       "    </tr>\n",
       "    <tr>\n",
       "      <th>1</th>\n",
       "      <td>0</td>\n",
       "      <td>0</td>\n",
       "      <td>1346976000</td>\n",
       "      <td>0</td>\n",
       "      <td>advertis advertis advertis product arriv label...</td>\n",
       "      <td>0.000000</td>\n",
       "    </tr>\n",
       "    <tr>\n",
       "      <th>2</th>\n",
       "      <td>1</td>\n",
       "      <td>1</td>\n",
       "      <td>1219017600</td>\n",
       "      <td>1</td>\n",
       "      <td>delight say delight say delight say confect ar...</td>\n",
       "      <td>0.999990</td>\n",
       "    </tr>\n",
       "    <tr>\n",
       "      <th>3</th>\n",
       "      <td>3</td>\n",
       "      <td>3</td>\n",
       "      <td>1307923200</td>\n",
       "      <td>0</td>\n",
       "      <td>cough medicin cough medicin cough medicin look...</td>\n",
       "      <td>0.999997</td>\n",
       "    </tr>\n",
       "    <tr>\n",
       "      <th>4</th>\n",
       "      <td>0</td>\n",
       "      <td>0</td>\n",
       "      <td>1350777600</td>\n",
       "      <td>1</td>\n",
       "      <td>great taffi great taffi great taffi great taff...</td>\n",
       "      <td>0.000000</td>\n",
       "    </tr>\n",
       "  </tbody>\n",
       "</table>\n",
       "</div>"
      ],
      "text/plain": [
       "   HelpfulnessNumerator  HelpfulnessDenominator        Time  is positive  \\\n",
       "0                     1                       1  1303862400            1   \n",
       "1                     0                       0  1346976000            0   \n",
       "2                     1                       1  1219017600            1   \n",
       "3                     3                       3  1307923200            0   \n",
       "4                     0                       0  1350777600            1   \n",
       "\n",
       "                                             reviews  HelpfulnessRatio  \n",
       "0  good qualiti dog food good qualiti dog food go...          0.999990  \n",
       "1  advertis advertis advertis product arriv label...          0.000000  \n",
       "2  delight say delight say delight say confect ar...          0.999990  \n",
       "3  cough medicin cough medicin cough medicin look...          0.999997  \n",
       "4  great taffi great taffi great taffi great taff...          0.000000  "
      ]
     },
     "execution_count": 2,
     "metadata": {},
     "output_type": "execute_result"
    }
   ],
   "source": [
    "# reading the preprocessed dataset and droping the null values\n",
    "\n",
    "df = pd.read_csv(\"preprocessed1.csv\")\n",
    "df = df.dropna()\n",
    "df.head()"
   ]
  },
  {
   "cell_type": "code",
   "execution_count": 3,
   "metadata": {},
   "outputs": [
    {
     "data": {
      "text/html": [
       "<div>\n",
       "<style scoped>\n",
       "    .dataframe tbody tr th:only-of-type {\n",
       "        vertical-align: middle;\n",
       "    }\n",
       "\n",
       "    .dataframe tbody tr th {\n",
       "        vertical-align: top;\n",
       "    }\n",
       "\n",
       "    .dataframe thead th {\n",
       "        text-align: right;\n",
       "    }\n",
       "</style>\n",
       "<table border=\"1\" class=\"dataframe\">\n",
       "  <thead>\n",
       "    <tr style=\"text-align: right;\">\n",
       "      <th></th>\n",
       "      <th>HelpfulnessNumerator</th>\n",
       "      <th>HelpfulnessDenominator</th>\n",
       "      <th>Time</th>\n",
       "      <th>is positive</th>\n",
       "      <th>reviews</th>\n",
       "      <th>HelpfulnessRatio</th>\n",
       "    </tr>\n",
       "  </thead>\n",
       "  <tbody>\n",
       "    <tr>\n",
       "      <th>118098</th>\n",
       "      <td>0</td>\n",
       "      <td>0</td>\n",
       "      <td>939340800</td>\n",
       "      <td>1</td>\n",
       "      <td>everi book educ everi book educ everi book edu...</td>\n",
       "      <td>0.000000</td>\n",
       "    </tr>\n",
       "    <tr>\n",
       "      <th>118075</th>\n",
       "      <td>2</td>\n",
       "      <td>2</td>\n",
       "      <td>940809600</td>\n",
       "      <td>1</td>\n",
       "      <td>whole seri great way spend time child whole se...</td>\n",
       "      <td>0.999995</td>\n",
       "    </tr>\n",
       "    <tr>\n",
       "      <th>299630</th>\n",
       "      <td>0</td>\n",
       "      <td>0</td>\n",
       "      <td>944092800</td>\n",
       "      <td>1</td>\n",
       "      <td>entertainingl funni entertainingl funni entert...</td>\n",
       "      <td>0.000000</td>\n",
       "    </tr>\n",
       "    <tr>\n",
       "      <th>169589</th>\n",
       "      <td>1</td>\n",
       "      <td>2</td>\n",
       "      <td>944438400</td>\n",
       "      <td>1</td>\n",
       "      <td>modern day fairi tale modern day fairi tale mo...</td>\n",
       "      <td>0.499998</td>\n",
       "    </tr>\n",
       "    <tr>\n",
       "      <th>299629</th>\n",
       "      <td>0</td>\n",
       "      <td>0</td>\n",
       "      <td>946857600</td>\n",
       "      <td>1</td>\n",
       "      <td>fantast fantast fantast beetlejuic excel funni...</td>\n",
       "      <td>0.000000</td>\n",
       "    </tr>\n",
       "  </tbody>\n",
       "</table>\n",
       "</div>"
      ],
      "text/plain": [
       "        HelpfulnessNumerator  HelpfulnessDenominator       Time  is positive  \\\n",
       "118098                     0                       0  939340800            1   \n",
       "118075                     2                       2  940809600            1   \n",
       "299630                     0                       0  944092800            1   \n",
       "169589                     1                       2  944438400            1   \n",
       "299629                     0                       0  946857600            1   \n",
       "\n",
       "                                                  reviews  HelpfulnessRatio  \n",
       "118098  everi book educ everi book educ everi book edu...          0.000000  \n",
       "118075  whole seri great way spend time child whole se...          0.999995  \n",
       "299630  entertainingl funni entertainingl funni entert...          0.000000  \n",
       "169589  modern day fairi tale modern day fairi tale mo...          0.499998  \n",
       "299629  fantast fantast fantast beetlejuic excel funni...          0.000000  "
      ]
     },
     "execution_count": 3,
     "metadata": {},
     "output_type": "execute_result"
    }
   ],
   "source": [
    "# sorting the dataset in the ascending order of time\n",
    "\n",
    "df = df.sort_values(by='Time', ascending = True)\n",
    "df.head()"
   ]
  },
  {
   "cell_type": "code",
   "execution_count": 4,
   "metadata": {
    "scrolled": true
   },
   "outputs": [
    {
     "data": {
      "text/html": [
       "<div>\n",
       "<style scoped>\n",
       "    .dataframe tbody tr th:only-of-type {\n",
       "        vertical-align: middle;\n",
       "    }\n",
       "\n",
       "    .dataframe tbody tr th {\n",
       "        vertical-align: top;\n",
       "    }\n",
       "\n",
       "    .dataframe thead th {\n",
       "        text-align: right;\n",
       "    }\n",
       "</style>\n",
       "<table border=\"1\" class=\"dataframe\">\n",
       "  <thead>\n",
       "    <tr style=\"text-align: right;\">\n",
       "      <th></th>\n",
       "      <th>HelpfulnessNumerator</th>\n",
       "      <th>HelpfulnessDenominator</th>\n",
       "      <th>is positive</th>\n",
       "      <th>reviews</th>\n",
       "      <th>HelpfulnessRatio</th>\n",
       "    </tr>\n",
       "  </thead>\n",
       "  <tbody>\n",
       "    <tr>\n",
       "      <th>118098</th>\n",
       "      <td>0</td>\n",
       "      <td>0</td>\n",
       "      <td>1</td>\n",
       "      <td>everi book educ everi book educ everi book edu...</td>\n",
       "      <td>0.000000</td>\n",
       "    </tr>\n",
       "    <tr>\n",
       "      <th>118075</th>\n",
       "      <td>2</td>\n",
       "      <td>2</td>\n",
       "      <td>1</td>\n",
       "      <td>whole seri great way spend time child whole se...</td>\n",
       "      <td>0.999995</td>\n",
       "    </tr>\n",
       "    <tr>\n",
       "      <th>299630</th>\n",
       "      <td>0</td>\n",
       "      <td>0</td>\n",
       "      <td>1</td>\n",
       "      <td>entertainingl funni entertainingl funni entert...</td>\n",
       "      <td>0.000000</td>\n",
       "    </tr>\n",
       "    <tr>\n",
       "      <th>169589</th>\n",
       "      <td>1</td>\n",
       "      <td>2</td>\n",
       "      <td>1</td>\n",
       "      <td>modern day fairi tale modern day fairi tale mo...</td>\n",
       "      <td>0.499998</td>\n",
       "    </tr>\n",
       "    <tr>\n",
       "      <th>299629</th>\n",
       "      <td>0</td>\n",
       "      <td>0</td>\n",
       "      <td>1</td>\n",
       "      <td>fantast fantast fantast beetlejuic excel funni...</td>\n",
       "      <td>0.000000</td>\n",
       "    </tr>\n",
       "  </tbody>\n",
       "</table>\n",
       "</div>"
      ],
      "text/plain": [
       "        HelpfulnessNumerator  HelpfulnessDenominator  is positive  \\\n",
       "118098                     0                       0            1   \n",
       "118075                     2                       2            1   \n",
       "299630                     0                       0            1   \n",
       "169589                     1                       2            1   \n",
       "299629                     0                       0            1   \n",
       "\n",
       "                                                  reviews  HelpfulnessRatio  \n",
       "118098  everi book educ everi book educ everi book edu...          0.000000  \n",
       "118075  whole seri great way spend time child whole se...          0.999995  \n",
       "299630  entertainingl funni entertainingl funni entert...          0.000000  \n",
       "169589  modern day fairi tale modern day fairi tale mo...          0.499998  \n",
       "299629  fantast fantast fantast beetlejuic excel funni...          0.000000  "
      ]
     },
     "execution_count": 4,
     "metadata": {},
     "output_type": "execute_result"
    }
   ],
   "source": [
    "# dropping the time column\n",
    "\n",
    "df = df.drop(columns = [\"Time\"])\n",
    "df.head()"
   ]
  },
  {
   "cell_type": "code",
   "execution_count": 5,
   "metadata": {},
   "outputs": [
    {
     "data": {
      "text/plain": [
       "<matplotlib.axes._subplots.AxesSubplot at 0x200a8d69198>"
      ]
     },
     "execution_count": 5,
     "metadata": {},
     "output_type": "execute_result"
    },
    {
     "data": {
      "image/png": "[encoded data removed]",
      "text/plain": [
       "<Figure size 432x288 with 1 Axes>"
      ]
     },
     "metadata": {},
     "output_type": "display_data"
    }
   ],
   "source": [
    "# distribution of is positive feature\n",
    "\n",
    "sns.countplot(x = \"is positive\", data = df)"
   ]
  },
  {
   "cell_type": "code",
   "execution_count": 6,
   "metadata": {},
   "outputs": [],
   "source": [
    "# dropping useless features and storing the dataframe alues in arrays\n",
    "\n",
    "y = df[\"is positive\"].values\n",
    "df = df.drop(columns = [\"is positive\",\"HelpfulnessNumerator\",\"HelpfulnessDenominator\",\"HelpfulnessRatio\"])\n",
    "x = df.values"
   ]
  },
  {
   "cell_type": "code",
   "execution_count": 7,
   "metadata": {},
   "outputs": [
    {
     "data": {
      "text/plain": [
       "(365317,)"
      ]
     },
     "execution_count": 7,
     "metadata": {},
     "output_type": "execute_result"
    }
   ],
   "source": [
    "# shap of label array\n",
    "\n",
    "y.shape"
   ]
  },
  {
   "cell_type": "code",
   "execution_count": 8,
   "metadata": {},
   "outputs": [
    {
     "data": {
      "text/plain": [
       "(365317, 1)"
      ]
     },
     "execution_count": 8,
     "metadata": {},
     "output_type": "execute_result"
    }
   ],
   "source": [
    "# shape of reviews array\n",
    "\n",
    "x.shape"
   ]
  },
  {
   "cell_type": "code",
   "execution_count": 9,
   "metadata": {},
   "outputs": [],
   "source": [
    "# performing temporal split on the data\n",
    "\n",
    "x_train = x[0:233802,:]\n",
    "x_cv = x[233802:292253,:]\n",
    "x_test = x[292253:,:]\n",
    "\n",
    "y_train = y[0:233802]\n",
    "y_cv = y[233802:292253]\n",
    "y_test = y[292253:]"
   ]
  },
  {
   "cell_type": "code",
   "execution_count": 10,
   "metadata": {},
   "outputs": [],
   "source": [
    "# converting the resultant arrays in dataframes\n",
    "\n",
    "df_train = pd.DataFrame(x_train)\n",
    "df_train.columns = [\"reviews\"]\n",
    "df_cv = pd.DataFrame(x_cv)\n",
    "df_cv.columns = [\"reviews\"]\n",
    "df_test = pd.DataFrame(x_test)\n",
    "df_test.columns = [\"reviews\"]"
   ]
  },
  {
   "cell_type": "code",
   "execution_count": 11,
   "metadata": {},
   "outputs": [],
   "source": [
    "# converting arrays to list\n",
    "\n",
    "review_train = list(x_train[:,0])\n",
    "review_cv = list(x_cv[:,0])\n",
    "review_test = list(x_test[:,0])"
   ]
  },
  {
   "cell_type": "code",
   "execution_count": 12,
   "metadata": {},
   "outputs": [],
   "source": [
    "# generating tfidf arrays\n",
    "\n",
    "tfidf = TfidfVectorizer(lowercase=False, )\n",
    "tfidf_train = tfidf.fit_transform(review_train)\n",
    "tfidf_cv = tfidf.transform(review_cv)\n",
    "tfidf_test = tfidf.transform(review_test)"
   ]
  },
  {
   "cell_type": "code",
   "execution_count": 13,
   "metadata": {},
   "outputs": [
    {
     "name": "stdout",
     "output_type": "stream",
     "text": [
      "traning data shape: (233802, 60359)\n",
      "CV data shape: (58451, 60359)\n",
      "test data shape: (73064, 60359)\n"
     ]
    }
   ],
   "source": [
    "# shape of traning, validation and test data\n",
    "\n",
    "print(\"traning data shape:\",tfidf_train.shape)\n",
    "print(\"CV data shape:\",tfidf_cv.shape)\n",
    "print(\"test data shape:\",tfidf_test.shape)"
   ]
  },
  {
   "cell_type": "markdown",
   "metadata": {},
   "source": [
    "# Random model"
   ]
  },
  {
   "cell_type": "code",
   "execution_count": 14,
   "metadata": {},
   "outputs": [],
   "source": [
    "y_pred_cv = np.zeros([58451,2])\n",
    "for i in range(58451):\n",
    "    x = np.random.rand(1,2)\n",
    "    x = x/x.sum()\n",
    "    y_pred_cv[i,:] = x"
   ]
  },
  {
   "cell_type": "code",
   "execution_count": 15,
   "metadata": {},
   "outputs": [
    {
     "name": "stdout",
     "output_type": "stream",
     "text": [
      "log loss of test data is: 0.8908029831354357\n"
     ]
    }
   ],
   "source": [
    "print(\"log loss of test data is:\",log_loss(y_cv,y_pred_cv))"
   ]
  },
  {
   "cell_type": "code",
   "execution_count": 16,
   "metadata": {},
   "outputs": [],
   "source": [
    "y_pred_test = np.zeros([73064,2])\n",
    "for i in range(73064):\n",
    "    x = np.random.rand(1,2)\n",
    "    x = x/x.sum()\n",
    "    y_pred_test[i,:] = x"
   ]
  },
  {
   "cell_type": "code",
   "execution_count": 17,
   "metadata": {},
   "outputs": [
    {
     "name": "stdout",
     "output_type": "stream",
     "text": [
      "log loss of test data is: 0.8794192441205901\n"
     ]
    }
   ],
   "source": [
    "print(\"log loss of test data is:\",log_loss(y_test,y_pred_test))"
   ]
  },
  {
   "cell_type": "markdown",
   "metadata": {},
   "source": [
    "# Logistic regression"
   ]
  },
  {
   "cell_type": "code",
   "execution_count": 18,
   "metadata": {},
   "outputs": [
    {
     "name": "stdout",
     "output_type": "stream",
     "text": [
      "For values of alpha =  1e-05 The log loss is: 0.2390210948013578\n",
      "For values of alpha =  0.0001 The log loss is: 0.2381979685744256\n",
      "For values of alpha =  0.001 The log loss is: 0.23150593666864067\n",
      "For values of alpha =  0.01 The log loss is: 0.208223170288464\n",
      "For values of alpha =  0.1 The log loss is: 0.1809764624436315\n",
      "For values of alpha =  1 The log loss is: 0.16715460638097548\n",
      "For values of alpha =  10 The log loss is: 0.1687274191115216\n",
      "For values of alpha =  100 The log loss is: 0.183286347383861\n",
      "For values of alpha =  1000 The log loss is: 0.2054880238561125\n"
     ]
    }
   ],
   "source": [
    "alpha = [10 ** x for x in range(-5, 4)]\n",
    "\n",
    "errors = []\n",
    "\n",
    "for i in alpha:\n",
    "    lr = LogisticRegression(penalty='l2',C=i,class_weight='balanced')\n",
    "    lr.fit(tfidf_train,y_train)\n",
    "    \n",
    "    clf = CalibratedClassifierCV(lr, method=\"sigmoid\")\n",
    "    clf.fit(tfidf_train, y_train)\n",
    "    \n",
    "    y_pred_cv = clf.predict_proba(tfidf_cv)\n",
    "    \n",
    "    errors.append(log_loss(y_cv, y_pred_cv, labels=lr.classes_, eps=1e-15))\n",
    "    \n",
    "    print('For values of alpha = ', i, \"The log loss is:\",log_loss(y_cv, y_pred_cv, labels=lr.classes_, eps=1e-15))"
   ]
  },
  {
   "cell_type": "code",
   "execution_count": 19,
   "metadata": {},
   "outputs": [
    {
     "name": "stdout",
     "output_type": "stream",
     "text": [
      "The cross validation loss: 0.16715460638097548\n",
      "The test loss: 0.16583083319771583\n"
     ]
    }
   ],
   "source": [
    "lr = LogisticRegression(penalty='l2',C=1,class_weight='balanced')\n",
    "lr.fit(tfidf_train,y_train)\n",
    "\n",
    "clf = CalibratedClassifierCV(lr, method=\"sigmoid\")\n",
    "clf.fit(tfidf_train, y_train)\n",
    "\n",
    "y_pred_cv = clf.predict_proba(tfidf_cv)\n",
    "\n",
    "y_pred_test = clf.predict_proba(tfidf_test)\n",
    "\n",
    "print(\"The cross validation loss:\",log_loss(y_cv, y_pred_cv, labels=lr.classes_, eps=1e-15))\n",
    "print(\"The test loss:\",log_loss(y_test, y_pred_test, labels=lr.classes_, eps=1e-15))"
   ]
  },
  {
   "cell_type": "markdown",
   "metadata": {},
   "source": [
    "# Linear SVM"
   ]
  },
  {
   "cell_type": "code",
   "execution_count": 20,
   "metadata": {},
   "outputs": [
    {
     "name": "stdout",
     "output_type": "stream",
     "text": [
      "For values of alpha =  1e-05 The log loss is: 0.16748635140087043\n",
      "For values of alpha =  0.0001 The log loss is: 0.20066236347369112\n",
      "For values of alpha =  0.001 The log loss is: 0.4117883266754433\n",
      "For values of alpha =  0.01 The log loss is: 0.4727935420420394\n",
      "For values of alpha =  0.1 The log loss is: 0.4727935420412047\n",
      "For values of alpha =  1 The log loss is: 0.47279354203957885\n",
      "For values of alpha =  10 The log loss is: 0.4727935420395626\n",
      "For values of alpha =  100 The log loss is: 0.4727935420395625\n",
      "For values of alpha =  1000 The log loss is: 0.47279354203956225\n",
      "For values of alpha =  10000 The log loss is: 0.4727935420395625\n"
     ]
    }
   ],
   "source": [
    "alpha = [10 ** x for x in range(-5, 5)]\n",
    "\n",
    "errors = []\n",
    "\n",
    "for i in alpha:\n",
    "    lrsvm = SGDClassifier(alpha=i, penalty='l1', loss='hinge', random_state=42)\n",
    "    lrsvm.fit(tfidf_train, y_train)\n",
    "    \n",
    "    cc = CalibratedClassifierCV(lrsvm, method=\"sigmoid\")\n",
    "    cc.fit(tfidf_train, y_train)\n",
    "    \n",
    "    y_pred_cv = cc.predict_proba(tfidf_cv)\n",
    "    \n",
    "    errors.append(log_loss(y_cv, y_pred_cv, labels = lrsvm.classes_, eps=1e-15))\n",
    "    \n",
    "    print('For values of alpha = ', i, \"The log loss is:\",log_loss(y_cv, y_pred_cv, labels = lrsvm.classes_, eps=1e-15))"
   ]
  },
  {
   "cell_type": "code",
   "execution_count": 21,
   "metadata": {},
   "outputs": [
    {
     "name": "stdout",
     "output_type": "stream",
     "text": [
      "log loss on cross validation data: 0.16748635140087043\n",
      "log loss on test data: 0.16631841072691603\n"
     ]
    }
   ],
   "source": [
    "lrsvm = SGDClassifier(alpha=0.00001, penalty='l1', loss='hinge', random_state=42)\n",
    "lrsvm.fit(tfidf_train, y_train)\n",
    "\n",
    "cc = CalibratedClassifierCV(lrsvm, method=\"sigmoid\")\n",
    "cc.fit(tfidf_train, y_train)\n",
    "\n",
    "y_pred_cv = cc.predict_proba(tfidf_cv)\n",
    "\n",
    "y_pred_test = cc.predict_proba(tfidf_test)\n",
    "\n",
    "print(\"log loss on cross validation data:\",log_loss(y_cv, y_pred_cv, labels = lrsvm.classes_, eps=1e-15))\n",
    "\n",
    "print(\"log loss on test data:\",log_loss(y_test, y_pred_test, labels = lrsvm.classes_, eps=1e-15))"
   ]
  },
  {
   "cell_type": "code",
   "execution_count": null,
   "metadata": {},
   "outputs": [],
   "source": []
  },
  {
   "cell_type": "code",
   "execution_count": null,
   "metadata": {},
   "outputs": [],
   "source": []
  },
  {
   "cell_type": "code",
   "execution_count": null,
   "metadata": {},
   "outputs": [],
   "source": []
  },
  {
   "cell_type": "code",
   "execution_count": null,
   "metadata": {},
   "outputs": [],
   "source": []
  },
  {
   "cell_type": "code",
   "execution_count": null,
   "metadata": {},
   "outputs": [],
   "source": []
  }
 ],
 "metadata": {
  "kernelspec": {
   "display_name": "Python 3",
   "language": "python",
   "name": "python3"
  },
  "language_info": {
   "codemirror_mode": {
    "name": "ipython",
    "version": 3
   },
   "file_extension": ".py",
   "mimetype": "text/x-python",
   "name": "python",
   "nbconvert_exporter": "python",
   "pygments_lexer": "ipython3",
   "version": "3.6.5"
  }
 },
 "nbformat": 4,
 "nbformat_minor": 2
}
